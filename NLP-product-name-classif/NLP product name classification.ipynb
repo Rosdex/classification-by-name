{
 "cells": [
  {
   "cell_type": "code",
   "execution_count": 47,
   "metadata": {
    "collapsed": true
   },
   "outputs": [],
   "source": [
    "import numpy as np\n",
    "import pandas as pd\n",
    "\n",
    "from sklearn import svm"
   ]
  },
  {
   "cell_type": "code",
   "execution_count": 48,
   "metadata": {
    "collapsed": true
   },
   "outputs": [],
   "source": [
    "filename = 'Shuffled_dataset.csv'"
   ]
  },
  {
   "cell_type": "code",
   "execution_count": 49,
   "metadata": {
    "collapsed": true
   },
   "outputs": [],
   "source": [
    "#read dataset\n",
    "data = pd.read_csv(filename)"
   ]
  },
  {
   "cell_type": "code",
   "execution_count": 50,
   "metadata": {
    "collapsed": false
   },
   "outputs": [
    {
     "name": "stdout",
     "output_type": "stream",
     "text": [
      "train size = 608, test size = 153\n"
     ]
    }
   ],
   "source": [
    "#split into train and test sets\n",
    "train_size = int(len(data) * 0.80)\n",
    "test_size = len(data) - train_size\n",
    "\n",
    "print('train size = {0}, test size = {1}'.format(train_size, test_size))\n",
    "\n",
    "train, test = data[0:train_size], data[train_size:len(data)]"
   ]
  },
  {
   "cell_type": "code",
   "execution_count": 51,
   "metadata": {
    "collapsed": false
   },
   "outputs": [
    {
     "name": "stdout",
     "output_type": "stream",
     "text": [
      "Train dataset\n",
      "(608, 34)\n",
      "(608,)\n",
      "Test dataset\n",
      "(153, 34)\n",
      "(153,)\n"
     ]
    }
   ],
   "source": [
    "#split to X Y features\n",
    "train_X = train.ix[:, 0:-1]\n",
    "train_Y = train.ix[:, -1]\n",
    "\n",
    "test_X = test.ix[:, 0:-1]\n",
    "test_Y = test.ix[:, -1]\n",
    "\n",
    "print('Train dataset')\n",
    "print(np.shape(train_X))\n",
    "print(np.shape(train_Y))\n",
    "\n",
    "print('Test dataset')\n",
    "print(np.shape(test_X))\n",
    "print(np.shape(test_Y))"
   ]
  },
  {
   "cell_type": "code",
   "execution_count": 52,
   "metadata": {
    "collapsed": false
   },
   "outputs": [
    {
     "data": {
      "text/plain": [
       "SVC(C=100.0, cache_size=200, class_weight=None, coef0=0.0,\n",
       "  decision_function_shape=None, degree=3, gamma=0.001, kernel='rbf',\n",
       "  max_iter=-1, probability=False, random_state=None, shrinking=True,\n",
       "  tol=0.001, verbose=False)"
      ]
     },
     "execution_count": 52,
     "metadata": {},
     "output_type": "execute_result"
    }
   ],
   "source": [
    "#create SVM nodel\n",
    "clf = svm.SVC(gamma=0.001, C=100.)\n",
    "\n",
    "#train model\n",
    "clf.fit(train_X, train_Y) "
   ]
  },
  {
   "cell_type": "code",
   "execution_count": 53,
   "metadata": {
    "collapsed": false
   },
   "outputs": [
    {
     "name": "stdout",
     "output_type": "stream",
     "text": [
      "Model accuracy = 0.9934640522875817\n"
     ]
    }
   ],
   "source": [
    "#check model on test data\n",
    "predicted_Y = clf.predict(test_X)\n",
    "\n",
    "#compare predicted and expected output\n",
    "result = np.mean(predicted_Y == test_Y)\n",
    "\n",
    "print('Model accuracy = {0}'.format(result))"
   ]
  },
  {
   "cell_type": "code",
   "execution_count": 54,
   "metadata": {
    "collapsed": false
   },
   "outputs": [
    {
     "name": "stdout",
     "output_type": "stream",
     "text": [
      "Predicted value = [114862]\n"
     ]
    },
    {
     "name": "stderr",
     "output_type": "stream",
     "text": [
      "C:\\ProgramData\\Anaconda3\\envs\\tensorflow\\lib\\site-packages\\sklearn\\utils\\validation.py:395: DeprecationWarning: Passing 1d arrays as data is deprecated in 0.17 and will raise ValueError in 0.19. Reshape your data either using X.reshape(-1, 1) if your data has a single feature or X.reshape(1, -1) if it contains a single sample.\n",
      "  DeprecationWarning)\n"
     ]
    }
   ],
   "source": [
    "#check model in manual mode - we exect get Y = 114862\n",
    "manual_test = [0.0,0.0,0.0,1.0,0.0,0.0,0.0,0.0,0.0,0.0,0.0,0.0,0.0,0.0,0.0,0.0,0.0,0.0,0.0,0.0,0.0,0.0,0.0,0.0,0.0,0.0,0.0,0.0,0.0,0.0,0.0,0.0,0.0,0.0]\n",
    "\n",
    "predicted_value = clf.predict(manual_test)\n",
    "print('Predicted value = {0}'.format(predicted_value))"
   ]
  }
 ],
 "metadata": {
  "kernelspec": {
   "display_name": "Python 3",
   "language": "python",
   "name": "python3"
  },
  "language_info": {
   "codemirror_mode": {
    "name": "ipython",
    "version": 3
   },
   "file_extension": ".py",
   "mimetype": "text/x-python",
   "name": "python",
   "nbconvert_exporter": "python",
   "pygments_lexer": "ipython3",
   "version": "3.5.2"
  }
 },
 "nbformat": 4,
 "nbformat_minor": 2
}
