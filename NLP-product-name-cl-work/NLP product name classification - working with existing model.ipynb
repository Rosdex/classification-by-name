{
 "cells": [
  {
   "cell_type": "code",
   "execution_count": 11,
   "metadata": {
    "collapsed": true
   },
   "outputs": [],
   "source": [
    "import numpy as np\n",
    "import pandas as pd\n",
    "\n",
    "from sklearn import svm\n",
    "from sklearn.feature_extraction.text import TfidfVectorizer\n",
    "from sklearn.externals import joblib\n",
    "from sklearn.utils import shuffle\n",
    "\n",
    "#our wrapper for Tomita parser and Tomita helper functions\n",
    "from ClearNames import TomitaParser, fact_to_string"
   ]
  },
  {
   "cell_type": "markdown",
   "metadata": {},
   "source": [
    "## Helpers"
   ]
  },
  {
   "cell_type": "code",
   "execution_count": 3,
   "metadata": {
    "collapsed": true
   },
   "outputs": [],
   "source": [
    "def create_np_array_from_vector(vector):\n",
    "    vec_arr = vector.toarray()\n",
    "    vec_list = []\n",
    "    \n",
    "    for i in range(0, vector.shape[1]):\n",
    "        vec_list.append(vec_arr[0,i])\n",
    "        \n",
    "    return np.array(vec_list)"
   ]
  },
  {
   "cell_type": "markdown",
   "metadata": {},
   "source": [
    "## Clear word - Tomita"
   ]
  },
  {
   "cell_type": "code",
   "execution_count": 58,
   "metadata": {
    "collapsed": true
   },
   "outputs": [],
   "source": [
    "#target_word = 'Аккумуляторная дрель BOSCH GSB 18-2-LI'\n",
    "target_word = 'Фонарь налобный Petzl Tikka 2'"
   ]
  },
  {
   "cell_type": "code",
   "execution_count": 59,
   "metadata": {
    "collapsed": false
   },
   "outputs": [
    {
     "name": "stdout",
     "output_type": "stream",
     "text": [
      "Clear name is фонарь налобный\n"
     ]
    }
   ],
   "source": [
    "# Create Tomita object and handle target word\n",
    "tomita = TomitaParser('C:\\\\Users\\\\Антон\\\\AnacondaProjects\\\\NLP-product-name-cl-work\\\\tomitaparser.exe', 'C:\\\\Users\\\\Антон\\\\AnacondaProjects\\\\NLP-product-name-cl-work\\\\tomita_config\\\\config.proto', debug=False)\n",
    "facts, leads = tomita.run(target_word)\n",
    "\n",
    "clear_name = fact_to_string(facts[0])\n",
    "print('Clear name is {0}'.format(clear_name))"
   ]
  },
  {
   "cell_type": "markdown",
   "metadata": {},
   "source": [
    "## Make vectorization"
   ]
  },
  {
   "cell_type": "code",
   "execution_count": 60,
   "metadata": {
    "collapsed": false
   },
   "outputs": [
    {
     "name": "stdout",
     "output_type": "stream",
     "text": [
      "vocabulary is \n",
      "{'конец': 14, 'дрель': 7, 'шина': 32, 'отвертка': 20, 'бур': 4, 'острый': 19, 'яркий': 33, 'комплект': 13, 'автомобильная': 1, 'сменная': 23, '70ый': 0, 'лента': 17, 'колесный': 12, 'аккумуляторная': 2, 'сверло': 22, 'струбцина': 24, 'кассета': 11, 'дальномер': 5, 'ультразвуковой': 27, 'диск': 6, 'фонарь': 30, 'корд': 15, 'лазерный': 16, 'пильная': 21, 'тиски': 25, 'набор': 18, 'карманный': 10, 'устройство': 29, 'ударная': 26, 'зев': 9, 'бензопила': 3, 'цепь': 31, 'зажим': 8, 'уровень': 28}\n"
     ]
    }
   ],
   "source": [
    "# load vectorizator and check params\n",
    "vectorizator_filename = 'vectorizator.sav'\n",
    "vectorizer = joblib.load(vectorizator_filename)\n",
    "\n",
    "print('vocabulary is ')\n",
    "print(vectorizer.vocabulary_)"
   ]
  },
  {
   "cell_type": "code",
   "execution_count": 61,
   "metadata": {
    "collapsed": true
   },
   "outputs": [],
   "source": [
    "vector = vectorizer.transform([clear_name])\n",
    "np_vector = create_np_array_from_vector(vector)"
   ]
  },
  {
   "cell_type": "markdown",
   "metadata": {},
   "source": [
    "## Load SVM and predict category name"
   ]
  },
  {
   "cell_type": "code",
   "execution_count": 62,
   "metadata": {
    "collapsed": true
   },
   "outputs": [],
   "source": [
    "svm_filename = 'svm.sav'\n",
    "clf = joblib.load(svm_filename)"
   ]
  },
  {
   "cell_type": "code",
   "execution_count": 63,
   "metadata": {
    "collapsed": false
   },
   "outputs": [
    {
     "name": "stdout",
     "output_type": "stream",
     "text": [
      "[114637]\n"
     ]
    },
    {
     "name": "stderr",
     "output_type": "stream",
     "text": [
      "C:\\ProgramData\\Anaconda3\\envs\\tensorflow\\lib\\site-packages\\sklearn\\utils\\validation.py:395: DeprecationWarning: Passing 1d arrays as data is deprecated in 0.17 and will raise ValueError in 0.19. Reshape your data either using X.reshape(-1, 1) if your data has a single feature or X.reshape(1, -1) if it contains a single sample.\n",
      "  DeprecationWarning)\n"
     ]
    }
   ],
   "source": [
    "predicted_value = clf.predict(np_vector)\n",
    "print(predicted_value)"
   ]
  },
  {
   "cell_type": "code",
   "execution_count": 64,
   "metadata": {
    "collapsed": true
   },
   "outputs": [],
   "source": [
    "category_dict = {114636: 'Дрели', 1: 'Шины', 2: 'Диски', 1630: 'Дальномеры', 114637: 'Фонари', 114838: 'Струбцина и зажимы', \n",
    "                 114856: 'цепи для инструментов', 114862: 'Бензопилы', 114903: 'Корды для триммеров', 114906: 'Газонокосилки',\n",
    "                 115047: 'Буры', 115117: 'Сверла'}"
   ]
  },
  {
   "cell_type": "code",
   "execution_count": 65,
   "metadata": {
    "collapsed": false
   },
   "outputs": [
    {
     "name": "stdout",
     "output_type": "stream",
     "text": [
      "Target category is Фонари\n"
     ]
    }
   ],
   "source": [
    "print('Target category is {}'.format(category_dict[predicted_value[0]]))"
   ]
  }
 ],
 "metadata": {
  "kernelspec": {
   "display_name": "Python 3",
   "language": "python",
   "name": "python3"
  },
  "language_info": {
   "codemirror_mode": {
    "name": "ipython",
    "version": 3
   },
   "file_extension": ".py",
   "mimetype": "text/x-python",
   "name": "python",
   "nbconvert_exporter": "python",
   "pygments_lexer": "ipython3",
   "version": "3.5.2"
  }
 },
 "nbformat": 4,
 "nbformat_minor": 2
}
